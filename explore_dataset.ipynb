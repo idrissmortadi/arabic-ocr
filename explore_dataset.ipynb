{
 "cells": [
  {
   "cell_type": "code",
   "execution_count": 2,
   "metadata": {},
   "outputs": [],
   "source": [
    "import numpy as np\n",
    "import matplotlib.pyplot as plt\n",
    "from PIL import Image\n",
    "import os\n",
    "import random\n",
    "import torch\n",
    "import torchvision"
   ]
  },
  {
   "cell_type": "code",
   "execution_count": 3,
   "metadata": {},
   "outputs": [
    {
     "name": "stdout",
     "output_type": "stream",
     "text": [
      "Dataset size: 5160\n",
      "Image Format: TIFF\n",
      "Image Mode: L\n",
      "Image Size: (39, 105)\n",
      "Label:  و\n"
     ]
    },
    {
     "data": {
      "image/png": "[encoded data removed]",
      "text/plain": [
       "<Figure size 640x480 with 1 Axes>"
      ]
     },
     "metadata": {},
     "output_type": "display_data"
    }
   ],
   "source": [
    "# Open the TIFF image\n",
    "DATASET_IMAGES_PATH = \"Dataset/Total Images/\"\n",
    "DATASET_LETTERS_PATH = \"Dataset/Total GT/\"\n",
    "\n",
    "images = os.listdir(DATASET_IMAGES_PATH)\n",
    "\n",
    "image_path = random.choice(images)\n",
    "\n",
    "label_file = image_path.removesuffix(\".tif\")+\".txt\"\n",
    "with open(os.path.join(DATASET_LETTERS_PATH, label_file), 'r') as lf:\n",
    "    label = lf.read()\n",
    "\n",
    "image = Image.open(os.path.join(DATASET_IMAGES_PATH, image_path))\n",
    "\n",
    "# Display some basic information about the image\n",
    "print(\"Dataset size:\", len(images))\n",
    "print(\"Image Format:\", image.format)\n",
    "print(\"Image Mode:\", image.mode)\n",
    "print(\"Image Size:\", image.size)\n",
    "print(\"Label: \", label)\n",
    "\n",
    "image_array = np.array(image)\n",
    "\n",
    "plt.imshow(image_array, cmap=\"gray\");\n"
   ]
  },
  {
   "cell_type": "code",
   "execution_count": 4,
   "metadata": {},
   "outputs": [
    {
     "data": {
      "text/plain": [
       "<matplotlib.image.AxesImage at 0x7f3f5bc00d50>"
      ]
     },
     "execution_count": 4,
     "metadata": {},
     "output_type": "execute_result"
    },
    {
     "data": {
      "image/png": "[encoded data removed]",
      "text/plain": [
       "<Figure size 640x480 with 1 Axes>"
      ]
     },
     "metadata": {},
     "output_type": "display_data"
    }
   ],
   "source": [
    "def find_size(numbers):\n",
    "    first_non_zero_index = None\n",
    "    last_non_zero_index = None\n",
    "\n",
    "    for i, num in enumerate(numbers):\n",
    "        if num != 0:\n",
    "            if first_non_zero_index is None:\n",
    "                first_non_zero_index = i\n",
    "            last_non_zero_index = i\n",
    "\n",
    "    # Check if any non-zero element found\n",
    "    if first_non_zero_index is not None:\n",
    "        size = last_non_zero_index - first_non_zero_index\n",
    "    else:\n",
    "        # If no non-zero elements found, set size to 0\n",
    "        size = 0\n",
    "\n",
    "    return {\"start\": first_non_zero_index,\n",
    "            \"end\": last_non_zero_index,\n",
    "            \"size\": size}\n",
    "\n",
    "\n",
    "def square_crop(image, resize):\n",
    "    # Find largest dimension vertical and horizontal\n",
    "    v_dim = find_size(image.sum(axis=1))\n",
    "    h_dim = find_size(image.sum(axis=0))\n",
    "    \n",
    "    # Create new image with largest dimension\n",
    "    if h_dim[\"size\"]>v_dim[\"size\"]:\n",
    "        cropped_image = torch.zeros(h_dim[\"size\"]+1,h_dim[\"size\"]+1)\n",
    "    else:\n",
    "        cropped_image = torch.zeros(v_dim[\"size\"]+1,v_dim[\"size\"]+1)\n",
    "\n",
    "    # Cut the image and put it in the new cropped image then resize\n",
    "    cropped_image[:v_dim[\"size\"], :h_dim[\"size\"]] = torch.Tensor(image[v_dim[\"start\"]:v_dim[\"end\"], h_dim[\"start\"]:h_dim[\"end\"]])\n",
    "    cropped_image = resize(cropped_image[None,...])\n",
    "\n",
    "    return cropped_image[0]\n",
    "\n",
    "resize = torchvision.transforms.Resize((28,28))\n",
    "cropped = square_crop(image_array, resize)\n",
    "plt.imshow(cropped)"
   ]
  },
  {
   "cell_type": "code",
   "execution_count": 34,
   "metadata": {},
   "outputs": [],
   "source": [
    "def get_unique_targets(labels_folder):\n",
    "    unique_targets = set()\n",
    "\n",
    "    for filename in os.listdir(labels_folder):\n",
    "        label_path = os.path.join(labels_folder, filename)\n",
    "        with open(label_path, 'r') as f:\n",
    "            target = f.read()\n",
    "            unique_targets.add(target.strip())\n",
    "\n",
    "    return list(unique_targets)\n",
    "\n",
    "def decode_target(id, unique_targets):\n",
    "    return unique_targets[id]"
   ]
  },
  {
   "cell_type": "code",
   "execution_count": 115,
   "metadata": {},
   "outputs": [
    {
     "name": "stdout",
     "output_type": "stream",
     "text": [
      "torch.Size([1, 64, 64])\n",
      "205\n",
      "torch.Size([1, 64, 64])\n",
      "6\n",
      "torch.Size([1, 64, 64])\n",
      "134\n"
     ]
    }
   ],
   "source": [
    "import os\n",
    "import cv2\n",
    "from torch.utils.data import Dataset\n",
    "import torchvision.transforms as transforms\n",
    "\n",
    "# Define the transformation to resize images to 28x28\n",
    "resize = transforms.Resize((64,64))\n",
    "\n",
    "class CustomDataset(Dataset):\n",
    "    def __init__(self, images_folder, labels_folder, transform=None):\n",
    "        self.images_folder = images_folder\n",
    "        self.labels_folder = labels_folder\n",
    "        self.image_names = os.listdir(images_folder)\n",
    "        self.transform = transform\n",
    "        self.unique_targets = get_unique_targets(labels_folder)\n",
    "\n",
    "    def __len__(self):\n",
    "        return len(self.image_names)\n",
    "\n",
    "    def __getitem__(self, idx):\n",
    "        image_name = self.image_names[idx]\n",
    "        image_path = os.path.join(self.images_folder, image_name)\n",
    "        label_path = os.path.join(self.labels_folder, image_name.split(\".\")[0]+\".txt\")\n",
    "        \n",
    "        # Read the label\n",
    "        with open(label_path, 'r') as f:\n",
    "            label = f.read()\n",
    "\n",
    "        # Read image using OpenCV\n",
    "        image_array = cv2.imread(image_path, cv2.IMREAD_GRAYSCALE)\n",
    "        \n",
    "        # Apply square crop and resize transformation\n",
    "        image_tensor = square_crop(image_array, self.transform)\n",
    "        \n",
    "        # Normalize image pixel values\n",
    "        image_tensor /= 255.0\n",
    "        \n",
    "        # Add channel dimension for grayscale image\n",
    "        image_tensor = image_tensor.unsqueeze(0)\n",
    "\n",
    "        return (image_tensor, self.unique_targets.index(label.strip()))\n",
    "\n",
    "# Create an instance of CustomDataset\n",
    "custom_dataset = CustomDataset(images_folder=DATASET_IMAGES_PATH,\n",
    "                               labels_folder=DATASET_LETTERS_PATH,\n",
    "                               transform=resize)\n",
    "\n",
    "# Example usage of the custom dataset\n",
    "for i in range(3):\n",
    "    data = custom_dataset[i]\n",
    "    print(data[0].shape)\n",
    "    print(data[1])\n"
   ]
  },
  {
   "cell_type": "code",
   "execution_count": 116,
   "metadata": {},
   "outputs": [
    {
     "name": "stdout",
     "output_type": "stream",
     "text": [
      "Train set size: 3611\n",
      "Validation set size: 774\n",
      "Test set size: 775\n",
      "Number of batches in train loader: 113\n",
      "Number of batches in validation loader: 25\n",
      "Number of batches in test loader: 25\n"
     ]
    }
   ],
   "source": [
    "from torch.utils.data import random_split\n",
    "from torch.utils.data import DataLoader\n",
    "\n",
    "# Define the sizes for train, validation, and test sets\n",
    "train_size = int(0.7 * len(custom_dataset))  # 70% of the data for training\n",
    "val_size = int(0.15 * len(custom_dataset))   # 15% of the data for validation\n",
    "test_size = len(custom_dataset) - train_size - val_size  # Remaining data for testing\n",
    "\n",
    "# Use random_split to split the dataset into train, validation, and test sets\n",
    "train_dataset, val_dataset, test_dataset = random_split(custom_dataset, [train_size, val_size, test_size])\n",
    "\n",
    "# Example usage:\n",
    "print(\"Train set size:\", len(train_dataset))\n",
    "print(\"Validation set size:\", len(val_dataset))\n",
    "print(\"Test set size:\", len(test_dataset))\n",
    "\n",
    "# Define batch size for train, validation, and test DataLoader instances\n",
    "batch_size_train = 32\n",
    "batch_size_val = 32\n",
    "batch_size_test = 32\n",
    "\n",
    "# Create DataLoader instances for train, validation, and test datasets\n",
    "train_loader = DataLoader(train_dataset, batch_size=batch_size_train, shuffle=True)\n",
    "val_loader = DataLoader(val_dataset, batch_size=batch_size_val, shuffle=False)\n",
    "test_loader = DataLoader(test_dataset, batch_size=batch_size_test, shuffle=False)\n",
    "\n",
    "# Example usage:\n",
    "print(\"Number of batches in train loader:\", len(train_loader))\n",
    "print(\"Number of batches in validation loader:\", len(val_loader))\n",
    "print(\"Number of batches in test loader:\", len(test_loader))\n"
   ]
  },
  {
   "cell_type": "code",
   "execution_count": 118,
   "metadata": {},
   "outputs": [
    {
     "name": "stdout",
     "output_type": "stream",
     "text": [
      "Epoch [1/50], Step [100/113], Loss: 5.3364\n",
      "Epoch [2/50], Step [100/113], Loss: 5.1641\n",
      "Epoch [3/50], Step [100/113], Loss: 5.2234\n",
      "Epoch [4/50], Step [100/113], Loss: 5.1942\n",
      "Epoch [5/50], Step [100/113], Loss: 5.0261\n",
      "Epoch [6/50], Step [100/113], Loss: 5.0353\n",
      "Epoch [7/50], Step [100/113], Loss: 5.1629\n",
      "Epoch [8/50], Step [100/113], Loss: 4.9865\n",
      "Epoch [9/50], Step [100/113], Loss: 4.9809\n",
      "Epoch [10/50], Step [100/113], Loss: 5.2077\n",
      "Epoch [11/50], Step [100/113], Loss: 5.0822\n",
      "Epoch [12/50], Step [100/113], Loss: 5.1134\n",
      "Epoch [13/50], Step [100/113], Loss: 5.0147\n",
      "Epoch [14/50], Step [100/113], Loss: 4.9581\n",
      "Epoch [15/50], Step [100/113], Loss: 5.0414\n",
      "Epoch [16/50], Step [100/113], Loss: 4.9789\n",
      "Epoch [17/50], Step [100/113], Loss: 4.9759\n",
      "Epoch [18/50], Step [100/113], Loss: 5.0716\n",
      "Epoch [19/50], Step [100/113], Loss: 4.9763\n",
      "Epoch [20/50], Step [100/113], Loss: 5.0951\n",
      "Epoch [21/50], Step [100/113], Loss: 5.0046\n",
      "Epoch [22/50], Step [100/113], Loss: 5.1246\n",
      "Epoch [23/50], Step [100/113], Loss: 5.0328\n",
      "Epoch [24/50], Step [100/113], Loss: 4.8371\n",
      "Epoch [25/50], Step [100/113], Loss: 5.1220\n",
      "Epoch [26/50], Step [100/113], Loss: 5.0303\n",
      "Epoch [27/50], Step [100/113], Loss: 4.9033\n",
      "Epoch [28/50], Step [100/113], Loss: 4.8719\n",
      "Epoch [29/50], Step [100/113], Loss: 4.9320\n",
      "Epoch [30/50], Step [100/113], Loss: 4.9981\n",
      "Epoch [31/50], Step [100/113], Loss: 5.0587\n",
      "Epoch [32/50], Step [100/113], Loss: 5.1197\n",
      "Epoch [33/50], Step [100/113], Loss: 5.0592\n",
      "Epoch [34/50], Step [100/113], Loss: 5.0464\n",
      "Epoch [35/50], Step [100/113], Loss: 4.9621\n",
      "Epoch [36/50], Step [100/113], Loss: 4.9942\n",
      "Epoch [37/50], Step [100/113], Loss: 4.9951\n",
      "Epoch [38/50], Step [100/113], Loss: 4.9023\n",
      "Epoch [39/50], Step [100/113], Loss: 5.0246\n",
      "Epoch [40/50], Step [100/113], Loss: 5.1189\n",
      "Epoch [41/50], Step [100/113], Loss: 4.9621\n",
      "Epoch [42/50], Step [100/113], Loss: 4.9781\n",
      "Epoch [43/50], Step [100/113], Loss: 4.9929\n",
      "Epoch [44/50], Step [100/113], Loss: 4.9318\n",
      "Epoch [45/50], Step [100/113], Loss: 5.2072\n",
      "Epoch [46/50], Step [100/113], Loss: 4.9293\n",
      "Epoch [47/50], Step [100/113], Loss: 5.0518\n",
      "Epoch [48/50], Step [100/113], Loss: 5.1240\n",
      "Epoch [49/50], Step [100/113], Loss: 4.9917\n",
      "Epoch [50/50], Step [100/113], Loss: 4.9635\n"
     ]
    }
   ],
   "source": [
    "import torch.nn as nn\n",
    "import torch.optim as optim\n",
    "\n",
    "num_classes = len(custom_dataset.unique_targets)\n",
    "\n",
    "# Step 1: Prepare your dataset\n",
    "# Assuming you have a dataset object named 'dataset' containing your images and labels\n",
    "\n",
    "# Step 2: Define your model\n",
    "class CNN(nn.Module):\n",
    "    def __init__(self, num_classes):\n",
    "        super(CNN, self).__init__()\n",
    "        self.features = nn.Sequential(\n",
    "            nn.Conv2d(1, 8, kernel_size=3, stride=1, padding=1),\n",
    "            nn.ReLU(),\n",
    "            nn.MaxPool2d(kernel_size=2, stride=2),\n",
    "            nn.Conv2d(8, 16, kernel_size=3, stride=1, padding=1),\n",
    "            nn.ReLU(),\n",
    "            nn.MaxPool2d(kernel_size=2, stride=2),\n",
    "            nn.Conv2d(16, 16, kernel_size=3, stride=1, padding=1),\n",
    "            nn.ReLU(),\n",
    "            nn.MaxPool2d(kernel_size=2, stride=2)\n",
    "        )\n",
    "        self.classifier = nn.Sequential(\n",
    "            nn.Linear(16 * 8 * 8, num_classes),\n",
    "            nn.Sigmoid()\n",
    "            ) # Adjust input size according to your image size\n",
    "\n",
    "    def forward(self, x):\n",
    "        x = self.features(x)\n",
    "        x = x.view(x.size(0), -1)\n",
    "        x = self.classifier(x)\n",
    "        return x\n",
    "\n",
    "# Step 3: Set up your training loop\n",
    "device = torch.device('cuda' if torch.cuda.is_available() else 'cpu')\n",
    "\n",
    "model = CNN(num_classes).to(device)  # Assuming you have 10 classes\n",
    "criterion = nn.CrossEntropyLoss()\n",
    "optimizer = optim.Adam(model.parameters(), lr=0.001)\n",
    "\n",
    "# Step 4: Train your model\n",
    "num_epochs = 50\n",
    "\n",
    "for epoch in range(num_epochs):\n",
    "    for batch_idx, (data, targets) in enumerate(train_loader):\n",
    "        data = data.to(device)\n",
    "        targets = targets.to(device)\n",
    "\n",
    "        # Forward pass\n",
    "        outputs = model(data)\n",
    "        loss = criterion(outputs, targets)\n",
    "\n",
    "        # Backward pass and optimization\n",
    "        optimizer.zero_grad()\n",
    "        loss.backward()\n",
    "        optimizer.step()\n",
    "\n",
    "        if (batch_idx + 1) % 100 == 0:\n",
    "            print(f'Epoch [{epoch + 1}/{num_epochs}], Step [{batch_idx + 1}/{len(train_loader)}], Loss: {loss.item():.4f}')\n",
    "\n",
    "# Step 5: Evaluate your model\n",
    "# You can evaluate your model on a separate validation set similarly to training loop\n",
    "\n",
    "# Save the trained model\n",
    "torch.save(model.state_dict(), 'cnn_model.pth')\n"
   ]
  },
  {
   "cell_type": "code",
   "execution_count": 173,
   "metadata": {},
   "outputs": [
    {
     "name": "stdout",
     "output_type": "stream",
     "text": [
      "Dataset size: 5160\n",
      "Image Format: TIFF\n",
      "Image Mode: L\n",
      "Image Size: (117, 172)\n",
      "Label:  أت\n",
      "Predicted label:  ك\n"
     ]
    },
    {
     "data": {
      "image/png": "[encoded data removed]",
      "text/plain": [
       "<Figure size 640x480 with 1 Axes>"
      ]
     },
     "metadata": {},
     "output_type": "display_data"
    }
   ],
   "source": [
    "def try_model(model,\n",
    "              images_path=DATASET_IMAGES_PATH,\n",
    "              labels_path=DATASET_LETTERS_PATH):\n",
    "\n",
    "    images = os.listdir(DATASET_IMAGES_PATH)\n",
    "\n",
    "    image_path = random.choice(images)\n",
    "\n",
    "    label_file = image_path.removesuffix(\".tif\")+\".txt\"\n",
    "    with open(os.path.join(DATASET_LETTERS_PATH, label_file), 'r') as lf:\n",
    "        label = lf.read()\n",
    "\n",
    "    image = Image.open(os.path.join(DATASET_IMAGES_PATH, image_path))\n",
    "\n",
    "    # Display some basic information about the image\n",
    "    print(\"Dataset size:\", len(images))\n",
    "    print(\"Image Format:\", image.format)\n",
    "    print(\"Image Mode:\", image.mode)\n",
    "    print(\"Image Size:\", image.size)\n",
    "    print(\"Label: \", label)\n",
    "\n",
    "    image_array = square_crop(np.array(image),resize)\n",
    "\n",
    "    x = torch.as_tensor(image_array).unsqueeze(0).unsqueeze(0).to(device)\n",
    "    pred = torch.argmax(model(x))\n",
    "    print(\"Predicted label: \", decode_target(pred, custom_dataset.unique_targets))\n",
    "\n",
    "    plt.imshow(image_array, cmap=\"gray\");\n",
    "\n",
    "try_model(model)\n"
   ]
  }
 ],
 "metadata": {
  "kernelspec": {
   "display_name": "Arabic-Handwritten-OCR-WxdVCjLx",
   "language": "python",
   "name": "python3"
  },
  "language_info": {
   "codemirror_mode": {
    "name": "ipython",
    "version": 3
   },
   "file_extension": ".py",
   "mimetype": "text/x-python",
   "name": "python",
   "nbconvert_exporter": "python",
   "pygments_lexer": "ipython3",
   "version": "3.11.6"
  }
 },
 "nbformat": 4,
 "nbformat_minor": 2
}
