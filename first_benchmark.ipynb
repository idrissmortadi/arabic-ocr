{
 "cells": [
  {
   "cell_type": "code",
   "execution_count": 1,
   "metadata": {},
   "outputs": [],
   "source": [
    "import numpy as np\n",
    "import matplotlib.pyplot as plt\n",
    "from PIL import Image\n",
    "import os\n",
    "import random\n",
    "import torch\n",
    "import torchvision"
   ]
  },
  {
   "cell_type": "code",
   "execution_count": 2,
   "metadata": {},
   "outputs": [
    {
     "name": "stdout",
     "output_type": "stream",
     "text": [
      "Dataset size: 5160\n",
      "Image Format: TIFF\n",
      "Image Mode: L\n",
      "Image Size: (42, 126)\n",
      "Label:  في\n"
     ]
    },
    {
     "data": {
      "image/png": "[encoded data removed]",
      "text/plain": [
       "<Figure size 640x480 with 1 Axes>"
      ]
     },
     "metadata": {},
     "output_type": "display_data"
    }
   ],
   "source": [
    "# Open the TIFF image\n",
    "DATASET_IMAGES_PATH = \"Dataset/Total Images/\"\n",
    "DATASET_LETTERS_PATH = \"Dataset/Total GT/\"\n",
    "\n",
    "images = os.listdir(DATASET_IMAGES_PATH)\n",
    "\n",
    "image_path = random.choice(images)\n",
    "\n",
    "label_file = image_path.removesuffix(\".tif\")+\".txt\"\n",
    "with open(os.path.join(DATASET_LETTERS_PATH, label_file), 'r') as lf:\n",
    "    label = lf.read()\n",
    "\n",
    "image = Image.open(os.path.join(DATASET_IMAGES_PATH, image_path))\n",
    "\n",
    "# Display some basic information about the image\n",
    "print(\"Dataset size:\", len(images))\n",
    "print(\"Image Format:\", image.format)\n",
    "print(\"Image Mode:\", image.mode)\n",
    "print(\"Image Size:\", image.size)\n",
    "print(\"Label: \", label)\n",
    "\n",
    "image_array = np.array(image)\n",
    "\n",
    "plt.imshow(image_array, cmap=\"gray\");\n"
   ]
  },
  {
   "cell_type": "code",
   "execution_count": 3,
   "metadata": {},
   "outputs": [
    {
     "data": {
      "text/plain": [
       "<matplotlib.image.AxesImage at 0x7efc8e493b50>"
      ]
     },
     "execution_count": 3,
     "metadata": {},
     "output_type": "execute_result"
    },
    {
     "data": {
      "image/png": "[encoded data removed]",
      "text/plain": [
       "<Figure size 640x480 with 1 Axes>"
      ]
     },
     "metadata": {},
     "output_type": "display_data"
    }
   ],
   "source": [
    "def find_size(numbers):\n",
    "    first_non_zero_index = None\n",
    "    last_non_zero_index = None\n",
    "\n",
    "    for i, num in enumerate(numbers):\n",
    "        if num != 0:\n",
    "            if first_non_zero_index is None:\n",
    "                first_non_zero_index = i\n",
    "            last_non_zero_index = i\n",
    "\n",
    "    # Check if any non-zero element found\n",
    "    if first_non_zero_index is not None:\n",
    "        size = last_non_zero_index - first_non_zero_index\n",
    "    else:\n",
    "        # If no non-zero elements found, set size to 0\n",
    "        size = 0\n",
    "\n",
    "    return {\"start\": first_non_zero_index,\n",
    "            \"end\": last_non_zero_index,\n",
    "            \"size\": size}\n",
    "\n",
    "\n",
    "def square_crop(image, resize):\n",
    "    # Find largest dimension vertical and horizontal\n",
    "    v_dim = find_size(image.sum(axis=1))\n",
    "    h_dim = find_size(image.sum(axis=0))\n",
    "    \n",
    "    # Create new image with largest dimension\n",
    "    if h_dim[\"size\"]>v_dim[\"size\"]:\n",
    "        cropped_image = torch.zeros(max(h_dim[\"size\"]+1,28),max(h_dim[\"size\"]+1,28))\n",
    "    else:\n",
    "        cropped_image = torch.zeros(max(v_dim[\"size\"]+1,28),max(v_dim[\"size\"]+1,28))\n",
    "\n",
    "    # Cut the image and put it in the new cropped image then resize\n",
    "    height, width = cropped_image.shape\n",
    "    position_h = (height - v_dim[\"size\"])//2, (height + v_dim[\"size\"])//2\n",
    "    position_w = (width - h_dim[\"size\"])//2, (width + h_dim[\"size\"])//2\n",
    "\n",
    "    cropped_image[position_h[0]:position_h[1], position_w[0]:position_w[1]] = torch.Tensor(image[v_dim[\"start\"]:v_dim[\"end\"], h_dim[\"start\"]:h_dim[\"end\"]])\n",
    "    cropped_image = resize(cropped_image[None,...])\n",
    "\n",
    "    return cropped_image[0]\n",
    "\n",
    "resize = torchvision.transforms.Resize((28,28))\n",
    "cropped = square_crop(image_array, resize)\n",
    "plt.imshow(cropped)"
   ]
  },
  {
   "cell_type": "code",
   "execution_count": 4,
   "metadata": {},
   "outputs": [],
   "source": [
    "def get_unique_targets(labels_folder):\n",
    "    unique_targets = set()\n",
    "\n",
    "    for filename in os.listdir(labels_folder):\n",
    "        label_path = os.path.join(labels_folder, filename)\n",
    "        with open(label_path, 'r') as f:\n",
    "            target = f.read()\n",
    "            unique_targets.add(target.strip())\n",
    "\n",
    "    return list(unique_targets)\n",
    "\n",
    "def decode_target(id, unique_targets):\n",
    "    return unique_targets[id]"
   ]
  },
  {
   "cell_type": "code",
   "execution_count": 5,
   "metadata": {},
   "outputs": [
    {
     "name": "stdout",
     "output_type": "stream",
     "text": [
      "torch.Size([1, 28, 28])\n",
      "122\n",
      "torch.Size([1, 28, 28])\n",
      "27\n",
      "torch.Size([1, 28, 28])\n",
      "147\n"
     ]
    }
   ],
   "source": [
    "import os\n",
    "import cv2\n",
    "from torch.utils.data import Dataset\n",
    "import torchvision.transforms as transforms\n",
    "\n",
    "# Define the transformation to resize images to 28x28\n",
    "resize = transforms.Resize((28,28))\n",
    "\n",
    "class CustomDataset(Dataset):\n",
    "    def __init__(self, images_folder, labels_folder, transform=None):\n",
    "        self.images_folder = images_folder\n",
    "        self.labels_folder = labels_folder\n",
    "        self.image_names = os.listdir(images_folder)\n",
    "        self.transform = transform\n",
    "        self.unique_targets = get_unique_targets(labels_folder)\n",
    "\n",
    "    def __len__(self):\n",
    "        return len(self.image_names)\n",
    "\n",
    "    def __getitem__(self, idx):\n",
    "        image_name = self.image_names[idx]\n",
    "        image_path = os.path.join(self.images_folder, image_name)\n",
    "        label_path = os.path.join(self.labels_folder, image_name.split(\".\")[0]+\".txt\")\n",
    "        \n",
    "        # Read the label\n",
    "        with open(label_path, 'r') as f:\n",
    "            label = f.read()\n",
    "\n",
    "        # Read image using OpenCV\n",
    "        image_array = cv2.imread(image_path, cv2.IMREAD_GRAYSCALE)\n",
    "        \n",
    "        # Apply square crop and resize transformation\n",
    "        image_tensor = square_crop(image_array, self.transform)\n",
    "        \n",
    "        # Normalize image pixel values\n",
    "        image_tensor /= 255.0\n",
    "        \n",
    "        # Add channel dimension for grayscale image\n",
    "        image_tensor = image_tensor.unsqueeze(0)\n",
    "\n",
    "        return (image_tensor, self.unique_targets.index(label.strip()))\n",
    "\n",
    "# Create an instance of CustomDataset\n",
    "custom_dataset = CustomDataset(images_folder=DATASET_IMAGES_PATH,\n",
    "                               labels_folder=DATASET_LETTERS_PATH,\n",
    "                               transform=resize)\n",
    "\n",
    "# Example usage of the custom dataset\n",
    "for i in range(3):\n",
    "    data = custom_dataset[i]\n",
    "    print(data[0].shape)\n",
    "    print(data[1])\n"
   ]
  },
  {
   "cell_type": "code",
   "execution_count": 6,
   "metadata": {},
   "outputs": [
    {
     "name": "stdout",
     "output_type": "stream",
     "text": [
      "Train set size: 3611\n",
      "Validation set size: 774\n",
      "Test set size: 775\n",
      "Number of batches in train loader: 113\n",
      "Number of batches in validation loader: 25\n",
      "Number of batches in test loader: 25\n"
     ]
    }
   ],
   "source": [
    "from torch.utils.data import random_split\n",
    "from torch.utils.data import DataLoader\n",
    "\n",
    "# Define the sizes for train, validation, and test sets\n",
    "train_size = int(0.7 * len(custom_dataset))  # 70% of the data for training\n",
    "val_size = int(0.15 * len(custom_dataset))   # 15% of the data for validation\n",
    "test_size = len(custom_dataset) - train_size - val_size  # Remaining data for testing\n",
    "\n",
    "# Use random_split to split the dataset into train, validation, and test sets\n",
    "train_dataset, val_dataset, test_dataset = random_split(custom_dataset, [train_size, val_size, test_size])\n",
    "\n",
    "# Example usage:\n",
    "print(\"Train set size:\", len(train_dataset))\n",
    "print(\"Validation set size:\", len(val_dataset))\n",
    "print(\"Test set size:\", len(test_dataset))\n",
    "\n",
    "# Define batch size for train, validation, and test DataLoader instances\n",
    "batch_size_train = 32\n",
    "batch_size_val = 32\n",
    "batch_size_test = 32\n",
    "\n",
    "# Create DataLoader instances for train, validation, and test datasets\n",
    "train_loader = DataLoader(train_dataset, batch_size=batch_size_train, shuffle=True)\n",
    "val_loader = DataLoader(val_dataset, batch_size=batch_size_val, shuffle=False)\n",
    "test_loader = DataLoader(test_dataset, batch_size=batch_size_test, shuffle=False)\n",
    "\n",
    "# Example usage:\n",
    "print(\"Number of batches in train loader:\", len(train_loader))\n",
    "print(\"Number of batches in validation loader:\", len(val_loader))\n",
    "print(\"Number of batches in test loader:\", len(test_loader))\n"
   ]
  },
  {
   "cell_type": "code",
   "execution_count": 7,
   "metadata": {},
   "outputs": [],
   "source": [
    "from datetime import datetime\n",
    "\n",
    "def save_model_with_timestamp(model, folder_path=\"saved_models\", suffix_format=\"%Y-%m-%d_%H-%M-%S\"):\n",
    "    \"\"\"\n",
    "    Saves the PyTorch model with a timestamp suffix to the specified folder.\n",
    "    \n",
    "    Args:\n",
    "        model (torch.nn.Module): The PyTorch model to be saved.\n",
    "        folder_path (str): The folder path where the model will be saved.\n",
    "        suffix_format (str): The format of the timestamp suffix.\n",
    "    \"\"\"\n",
    "    # Get the current date and time\n",
    "    current_time = datetime.now().strftime(suffix_format)\n",
    "    \n",
    "    # Generate the file path with the timestamp suffix\n",
    "    file_path = f\"{folder_path}/{model.name}_{current_time}.pth\"\n",
    "    \n",
    "    # Save the model\n",
    "    torch.save(model, file_path)\n",
    "    print(f\"Model saved to {file_path}\")"
   ]
  },
  {
   "cell_type": "code",
   "execution_count": 8,
   "metadata": {},
   "outputs": [
    {
     "name": "stderr",
     "output_type": "stream",
     "text": [
      "/home/idriss/Projects/Arabic-Handwritten-OCR/.venv/lib/python3.11/site-packages/torch/nn/modules/rnn.py:83: UserWarning: dropout option adds dropout after all but last recurrent layer, so non-zero dropout expects num_layers greater than 1, but got dropout=0.35 and num_layers=1\n",
      "  warnings.warn(\"dropout option adds dropout after all but last \"\n",
      "/home/idriss/Projects/Arabic-Handwritten-OCR/.venv/lib/python3.11/site-packages/torch/nn/modules/rnn.py:878: UserWarning: RNN module weights are not part of single contiguous chunk of memory. This means they need to be compacted at every call, possibly greatly increasing memory usage. To compact weights again call flatten_parameters(). (Triggered internally at ../aten/src/ATen/native/cudnn/RNN.cpp:982.)\n",
      "  result = _VF.lstm(input, hx, self._flat_weights, self.bias, self.num_layers,\n"
     ]
    },
    {
     "ename": "RuntimeError",
     "evalue": "shape '[512, 1]' is invalid for input of size 8192",
     "output_type": "error",
     "traceback": [
      "\u001b[0;31m---------------------------------------------------------------------------\u001b[0m",
      "\u001b[0;31mRuntimeError\u001b[0m                              Traceback (most recent call last)",
      "Cell \u001b[0;32mIn[8], line 27\u001b[0m\n\u001b[1;32m     22\u001b[0m targets \u001b[38;5;241m=\u001b[39m targets\u001b[38;5;241m.\u001b[39mto(device)\n\u001b[1;32m     24\u001b[0m \u001b[38;5;66;03m# Forward pass\u001b[39;00m\n\u001b[1;32m     25\u001b[0m \u001b[38;5;66;03m# print(model.features(data).shape)\u001b[39;00m\n\u001b[0;32m---> 27\u001b[0m outputs \u001b[38;5;241m=\u001b[39m \u001b[43mmodel\u001b[49m\u001b[43m(\u001b[49m\u001b[43mdata\u001b[49m\u001b[43m)\u001b[49m\n\u001b[1;32m     28\u001b[0m loss \u001b[38;5;241m=\u001b[39m criterion(outputs, targets)\n\u001b[1;32m     30\u001b[0m \u001b[38;5;66;03m# Backward pass and optimization\u001b[39;00m\n",
      "File \u001b[0;32m~/Projects/Arabic-Handwritten-OCR/.venv/lib/python3.11/site-packages/torch/nn/modules/module.py:1511\u001b[0m, in \u001b[0;36mModule._wrapped_call_impl\u001b[0;34m(self, *args, **kwargs)\u001b[0m\n\u001b[1;32m   1509\u001b[0m     \u001b[38;5;28;01mreturn\u001b[39;00m \u001b[38;5;28mself\u001b[39m\u001b[38;5;241m.\u001b[39m_compiled_call_impl(\u001b[38;5;241m*\u001b[39margs, \u001b[38;5;241m*\u001b[39m\u001b[38;5;241m*\u001b[39mkwargs)  \u001b[38;5;66;03m# type: ignore[misc]\u001b[39;00m\n\u001b[1;32m   1510\u001b[0m \u001b[38;5;28;01melse\u001b[39;00m:\n\u001b[0;32m-> 1511\u001b[0m     \u001b[38;5;28;01mreturn\u001b[39;00m \u001b[38;5;28;43mself\u001b[39;49m\u001b[38;5;241;43m.\u001b[39;49m\u001b[43m_call_impl\u001b[49m\u001b[43m(\u001b[49m\u001b[38;5;241;43m*\u001b[39;49m\u001b[43margs\u001b[49m\u001b[43m,\u001b[49m\u001b[43m \u001b[49m\u001b[38;5;241;43m*\u001b[39;49m\u001b[38;5;241;43m*\u001b[39;49m\u001b[43mkwargs\u001b[49m\u001b[43m)\u001b[49m\n",
      "File \u001b[0;32m~/Projects/Arabic-Handwritten-OCR/.venv/lib/python3.11/site-packages/torch/nn/modules/module.py:1520\u001b[0m, in \u001b[0;36mModule._call_impl\u001b[0;34m(self, *args, **kwargs)\u001b[0m\n\u001b[1;32m   1515\u001b[0m \u001b[38;5;66;03m# If we don't have any hooks, we want to skip the rest of the logic in\u001b[39;00m\n\u001b[1;32m   1516\u001b[0m \u001b[38;5;66;03m# this function, and just call forward.\u001b[39;00m\n\u001b[1;32m   1517\u001b[0m \u001b[38;5;28;01mif\u001b[39;00m \u001b[38;5;129;01mnot\u001b[39;00m (\u001b[38;5;28mself\u001b[39m\u001b[38;5;241m.\u001b[39m_backward_hooks \u001b[38;5;129;01mor\u001b[39;00m \u001b[38;5;28mself\u001b[39m\u001b[38;5;241m.\u001b[39m_backward_pre_hooks \u001b[38;5;129;01mor\u001b[39;00m \u001b[38;5;28mself\u001b[39m\u001b[38;5;241m.\u001b[39m_forward_hooks \u001b[38;5;129;01mor\u001b[39;00m \u001b[38;5;28mself\u001b[39m\u001b[38;5;241m.\u001b[39m_forward_pre_hooks\n\u001b[1;32m   1518\u001b[0m         \u001b[38;5;129;01mor\u001b[39;00m _global_backward_pre_hooks \u001b[38;5;129;01mor\u001b[39;00m _global_backward_hooks\n\u001b[1;32m   1519\u001b[0m         \u001b[38;5;129;01mor\u001b[39;00m _global_forward_hooks \u001b[38;5;129;01mor\u001b[39;00m _global_forward_pre_hooks):\n\u001b[0;32m-> 1520\u001b[0m     \u001b[38;5;28;01mreturn\u001b[39;00m \u001b[43mforward_call\u001b[49m\u001b[43m(\u001b[49m\u001b[38;5;241;43m*\u001b[39;49m\u001b[43margs\u001b[49m\u001b[43m,\u001b[49m\u001b[43m \u001b[49m\u001b[38;5;241;43m*\u001b[39;49m\u001b[38;5;241;43m*\u001b[39;49m\u001b[43mkwargs\u001b[49m\u001b[43m)\u001b[49m\n\u001b[1;32m   1522\u001b[0m \u001b[38;5;28;01mtry\u001b[39;00m:\n\u001b[1;32m   1523\u001b[0m     result \u001b[38;5;241m=\u001b[39m \u001b[38;5;28;01mNone\u001b[39;00m\n",
      "File \u001b[0;32m~/Projects/Arabic-Handwritten-OCR/model_scripts/model_1.py:29\u001b[0m, in \u001b[0;36mHandwritingRecognizer1.forward\u001b[0;34m(self, x)\u001b[0m\n\u001b[1;32m     27\u001b[0m x \u001b[38;5;241m=\u001b[39m \u001b[38;5;28mself\u001b[39m\u001b[38;5;241m.\u001b[39mbn2(x)\n\u001b[1;32m     28\u001b[0m x \u001b[38;5;241m=\u001b[39m x\u001b[38;5;241m.\u001b[39munsqueeze(\u001b[38;5;241m2\u001b[39m)\n\u001b[0;32m---> 29\u001b[0m x, _ \u001b[38;5;241m=\u001b[39m \u001b[38;5;28;43mself\u001b[39;49m\u001b[38;5;241;43m.\u001b[39;49m\u001b[43mlstm\u001b[49m\u001b[43m(\u001b[49m\u001b[43mx\u001b[49m\u001b[43m)\u001b[49m\n\u001b[1;32m     30\u001b[0m x \u001b[38;5;241m=\u001b[39m \u001b[38;5;28mself\u001b[39m\u001b[38;5;241m.\u001b[39mdense2(x)\n\u001b[1;32m     31\u001b[0m \u001b[38;5;66;03m# Include log_softmax for compatibility with CTC loss\u001b[39;00m\n",
      "File \u001b[0;32m~/Projects/Arabic-Handwritten-OCR/.venv/lib/python3.11/site-packages/torch/nn/modules/module.py:1511\u001b[0m, in \u001b[0;36mModule._wrapped_call_impl\u001b[0;34m(self, *args, **kwargs)\u001b[0m\n\u001b[1;32m   1509\u001b[0m     \u001b[38;5;28;01mreturn\u001b[39;00m \u001b[38;5;28mself\u001b[39m\u001b[38;5;241m.\u001b[39m_compiled_call_impl(\u001b[38;5;241m*\u001b[39margs, \u001b[38;5;241m*\u001b[39m\u001b[38;5;241m*\u001b[39mkwargs)  \u001b[38;5;66;03m# type: ignore[misc]\u001b[39;00m\n\u001b[1;32m   1510\u001b[0m \u001b[38;5;28;01melse\u001b[39;00m:\n\u001b[0;32m-> 1511\u001b[0m     \u001b[38;5;28;01mreturn\u001b[39;00m \u001b[38;5;28;43mself\u001b[39;49m\u001b[38;5;241;43m.\u001b[39;49m\u001b[43m_call_impl\u001b[49m\u001b[43m(\u001b[49m\u001b[38;5;241;43m*\u001b[39;49m\u001b[43margs\u001b[49m\u001b[43m,\u001b[49m\u001b[43m \u001b[49m\u001b[38;5;241;43m*\u001b[39;49m\u001b[38;5;241;43m*\u001b[39;49m\u001b[43mkwargs\u001b[49m\u001b[43m)\u001b[49m\n",
      "File \u001b[0;32m~/Projects/Arabic-Handwritten-OCR/.venv/lib/python3.11/site-packages/torch/nn/modules/module.py:1520\u001b[0m, in \u001b[0;36mModule._call_impl\u001b[0;34m(self, *args, **kwargs)\u001b[0m\n\u001b[1;32m   1515\u001b[0m \u001b[38;5;66;03m# If we don't have any hooks, we want to skip the rest of the logic in\u001b[39;00m\n\u001b[1;32m   1516\u001b[0m \u001b[38;5;66;03m# this function, and just call forward.\u001b[39;00m\n\u001b[1;32m   1517\u001b[0m \u001b[38;5;28;01mif\u001b[39;00m \u001b[38;5;129;01mnot\u001b[39;00m (\u001b[38;5;28mself\u001b[39m\u001b[38;5;241m.\u001b[39m_backward_hooks \u001b[38;5;129;01mor\u001b[39;00m \u001b[38;5;28mself\u001b[39m\u001b[38;5;241m.\u001b[39m_backward_pre_hooks \u001b[38;5;129;01mor\u001b[39;00m \u001b[38;5;28mself\u001b[39m\u001b[38;5;241m.\u001b[39m_forward_hooks \u001b[38;5;129;01mor\u001b[39;00m \u001b[38;5;28mself\u001b[39m\u001b[38;5;241m.\u001b[39m_forward_pre_hooks\n\u001b[1;32m   1518\u001b[0m         \u001b[38;5;129;01mor\u001b[39;00m _global_backward_pre_hooks \u001b[38;5;129;01mor\u001b[39;00m _global_backward_hooks\n\u001b[1;32m   1519\u001b[0m         \u001b[38;5;129;01mor\u001b[39;00m _global_forward_hooks \u001b[38;5;129;01mor\u001b[39;00m _global_forward_pre_hooks):\n\u001b[0;32m-> 1520\u001b[0m     \u001b[38;5;28;01mreturn\u001b[39;00m \u001b[43mforward_call\u001b[49m\u001b[43m(\u001b[49m\u001b[38;5;241;43m*\u001b[39;49m\u001b[43margs\u001b[49m\u001b[43m,\u001b[49m\u001b[43m \u001b[49m\u001b[38;5;241;43m*\u001b[39;49m\u001b[38;5;241;43m*\u001b[39;49m\u001b[43mkwargs\u001b[49m\u001b[43m)\u001b[49m\n\u001b[1;32m   1522\u001b[0m \u001b[38;5;28;01mtry\u001b[39;00m:\n\u001b[1;32m   1523\u001b[0m     result \u001b[38;5;241m=\u001b[39m \u001b[38;5;28;01mNone\u001b[39;00m\n",
      "File \u001b[0;32m~/Projects/Arabic-Handwritten-OCR/.venv/lib/python3.11/site-packages/torch/nn/modules/rnn.py:878\u001b[0m, in \u001b[0;36mLSTM.forward\u001b[0;34m(self, input, hx)\u001b[0m\n\u001b[1;32m    875\u001b[0m         hx \u001b[38;5;241m=\u001b[39m \u001b[38;5;28mself\u001b[39m\u001b[38;5;241m.\u001b[39mpermute_hidden(hx, sorted_indices)\n\u001b[1;32m    877\u001b[0m \u001b[38;5;28;01mif\u001b[39;00m batch_sizes \u001b[38;5;129;01mis\u001b[39;00m \u001b[38;5;28;01mNone\u001b[39;00m:\n\u001b[0;32m--> 878\u001b[0m     result \u001b[38;5;241m=\u001b[39m \u001b[43m_VF\u001b[49m\u001b[38;5;241;43m.\u001b[39;49m\u001b[43mlstm\u001b[49m\u001b[43m(\u001b[49m\u001b[38;5;28;43minput\u001b[39;49m\u001b[43m,\u001b[49m\u001b[43m \u001b[49m\u001b[43mhx\u001b[49m\u001b[43m,\u001b[49m\u001b[43m \u001b[49m\u001b[38;5;28;43mself\u001b[39;49m\u001b[38;5;241;43m.\u001b[39;49m\u001b[43m_flat_weights\u001b[49m\u001b[43m,\u001b[49m\u001b[43m \u001b[49m\u001b[38;5;28;43mself\u001b[39;49m\u001b[38;5;241;43m.\u001b[39;49m\u001b[43mbias\u001b[49m\u001b[43m,\u001b[49m\u001b[43m \u001b[49m\u001b[38;5;28;43mself\u001b[39;49m\u001b[38;5;241;43m.\u001b[39;49m\u001b[43mnum_layers\u001b[49m\u001b[43m,\u001b[49m\n\u001b[1;32m    879\u001b[0m \u001b[43m                      \u001b[49m\u001b[38;5;28;43mself\u001b[39;49m\u001b[38;5;241;43m.\u001b[39;49m\u001b[43mdropout\u001b[49m\u001b[43m,\u001b[49m\u001b[43m \u001b[49m\u001b[38;5;28;43mself\u001b[39;49m\u001b[38;5;241;43m.\u001b[39;49m\u001b[43mtraining\u001b[49m\u001b[43m,\u001b[49m\u001b[43m \u001b[49m\u001b[38;5;28;43mself\u001b[39;49m\u001b[38;5;241;43m.\u001b[39;49m\u001b[43mbidirectional\u001b[49m\u001b[43m,\u001b[49m\u001b[43m \u001b[49m\u001b[38;5;28;43mself\u001b[39;49m\u001b[38;5;241;43m.\u001b[39;49m\u001b[43mbatch_first\u001b[49m\u001b[43m)\u001b[49m\n\u001b[1;32m    880\u001b[0m \u001b[38;5;28;01melse\u001b[39;00m:\n\u001b[1;32m    881\u001b[0m     result \u001b[38;5;241m=\u001b[39m _VF\u001b[38;5;241m.\u001b[39mlstm(\u001b[38;5;28minput\u001b[39m, batch_sizes, hx, \u001b[38;5;28mself\u001b[39m\u001b[38;5;241m.\u001b[39m_flat_weights, \u001b[38;5;28mself\u001b[39m\u001b[38;5;241m.\u001b[39mbias,\n\u001b[1;32m    882\u001b[0m                       \u001b[38;5;28mself\u001b[39m\u001b[38;5;241m.\u001b[39mnum_layers, \u001b[38;5;28mself\u001b[39m\u001b[38;5;241m.\u001b[39mdropout, \u001b[38;5;28mself\u001b[39m\u001b[38;5;241m.\u001b[39mtraining, \u001b[38;5;28mself\u001b[39m\u001b[38;5;241m.\u001b[39mbidirectional)\n",
      "\u001b[0;31mRuntimeError\u001b[0m: shape '[512, 1]' is invalid for input of size 8192"
     ]
    }
   ],
   "source": [
    "import torch.nn as nn\n",
    "\n",
    "num_classes = len(custom_dataset.unique_targets)\n",
    "\n",
    "# Step 1: Define model\n",
    "from model_scripts import BenchmarkCnn, HandwritingRecognizer1\n",
    "\n",
    "# Step 2: Set up your training loop\n",
    "device = torch.device('cuda' if torch.cuda.is_available() else 'cpu')\n",
    "\n",
    "model = HandwritingRecognizer1(28,28,num_classes).to(device)\n",
    "optimizer, lr_schedule = model.configure_optimizers()\n",
    "\n",
    "criterion = nn.CrossEntropyLoss()\n",
    "\n",
    "# Step 3: Train your model\n",
    "num_epochs = 5\n",
    "\n",
    "for epoch in range(num_epochs):\n",
    "    for batch_idx, (data, targets) in enumerate(train_loader):\n",
    "        data = data.to(device)\n",
    "        targets = targets.to(device)\n",
    "\n",
    "        # Forward pass\n",
    "        # print(model.features(data).shape)\n",
    "\n",
    "        outputs = model(data)\n",
    "        loss = criterion(outputs, targets)\n",
    "\n",
    "        # Backward pass and optimization\n",
    "        optimizer.zero_grad()\n",
    "        loss.backward()\n",
    "        optimizer.step()\n",
    "\n",
    "        if (batch_idx + 1) % 100 == 0:\n",
    "            print(f'Epoch [{epoch + 1}/{num_epochs}], Step [{batch_idx + 1}/{len(train_loader)}], Loss: {loss.item():.4f}')\n",
    "\n",
    "\n",
    "# Save the trained model\n",
    "save_model_with_timestamp(model)"
   ]
  },
  {
   "cell_type": "code",
   "execution_count": null,
   "metadata": {},
   "outputs": [
    {
     "name": "stdout",
     "output_type": "stream",
     "text": [
      "Dataset size: 5160\n",
      "Image Format: TIFF\n",
      "Image Mode: L\n",
      "Image Size: (33, 87)\n",
      "Label:  ل\n",
      "Predicted label:  \n"
     ]
    },
    {
     "data": {
      "image/png": "[encoded data removed]",
      "text/plain": [
       "<Figure size 640x480 with 1 Axes>"
      ]
     },
     "metadata": {},
     "output_type": "display_data"
    }
   ],
   "source": [
    "def try_model(model,\n",
    "              images_path=DATASET_IMAGES_PATH,\n",
    "              labels_path=DATASET_LETTERS_PATH):\n",
    "\n",
    "    images = os.listdir(DATASET_IMAGES_PATH)\n",
    "\n",
    "    image_path = random.choice(images)\n",
    "\n",
    "    label_file = image_path.removesuffix(\".tif\")+\".txt\"\n",
    "    with open(os.path.join(DATASET_LETTERS_PATH, label_file), 'r') as lf:\n",
    "        label = lf.read()\n",
    "\n",
    "    image = Image.open(os.path.join(DATASET_IMAGES_PATH, image_path))\n",
    "\n",
    "    # Display some basic information about the image\n",
    "    print(\"Dataset size:\", len(images))\n",
    "    print(\"Image Format:\", image.format)\n",
    "    print(\"Image Mode:\", image.mode)\n",
    "    print(\"Image Size:\", image.size)\n",
    "    print(\"Label: \", label)\n",
    "\n",
    "    image_array = square_crop(np.array(image),resize)\n",
    "\n",
    "    x = torch.as_tensor(image_array).unsqueeze(0).unsqueeze(0).to(device)\n",
    "    pred = torch.argmax(model(x))\n",
    "    print(\"Predicted label: \", decode_target(pred, custom_dataset.unique_targets))\n",
    "\n",
    "    plt.imshow(image_array, cmap=\"gray\");\n",
    "\n",
    "try_model(model)\n"
   ]
  }
 ],
 "metadata": {
  "kernelspec": {
   "display_name": "Arabic-Handwritten-OCR-WxdVCjLx",
   "language": "python",
   "name": "python3"
  },
  "language_info": {
   "codemirror_mode": {
    "name": "ipython",
    "version": 3
   },
   "file_extension": ".py",
   "mimetype": "text/x-python",
   "name": "python",
   "nbconvert_exporter": "python",
   "pygments_lexer": "ipython3",
   "version": "3.11.6"
  }
 },
 "nbformat": 4,
 "nbformat_minor": 2
}
